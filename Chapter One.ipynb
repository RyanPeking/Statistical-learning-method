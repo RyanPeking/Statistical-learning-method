{
 "cells": [
  {
   "cell_type": "markdown",
   "metadata": {},
   "source": [
    "### 1.1 Q:说明伯努利模型的极大似然估计以及贝叶斯估计中的统计学习方法三要素.伯努利模型是定义在取值为0与1的随机变量上的概率分布.假设观测到伯努利模型n次独立的数据生成结果,其中k次的结果为1,这时可以用极大似然估计或贝叶斯估计来估计结果为1的概率"
   ]
  },
  {
   "cell_type": "markdown",
   "metadata": {},
   "source": [
    "统计学习方法的三要素是模型、策略、算法。\n",
    "\n",
    "伯努利模型是定义在取值为0与1的随机变量上的概率分布。\n",
    "\n",
    "统计学分为两派：经典统计学派和贝叶斯统计学派。两者的不同主要是，经典统计学派认为模型已定，参数未知，参数是固定的，只是还不知道；贝叶斯统计学派是通过观察到的现象对概率分布中的主观认定不断进行修正。\n",
    "\n",
    "极大似然估计和贝叶斯估计的模型都是伯努利模型也就是条件概率模型；极大似然估计用的是经典统计学派的策略，贝叶斯估计用的是贝叶斯统计学派的策略；为了得到使经验风险最小的参数值，使用的算法都是对经验风险求导，使导数为0.\n",
    "\n",
    "定义随机变量A为一次伯努利试验的结果，A的取值为{0,1}，概率分布为P(A）：\n",
    "$$ P(A=1)=θ$$\n",
    "$$ P(A=0)=1−θ$$\n",
    "下面分布用极大似然估计和贝叶斯估计来估计θθ 的值。\n",
    "\n",
    "极大似然估计：\n",
    "$$ L(θ)= \\prod_{i=1}^nP(Ai)=θ^k(1−θ)^{n−k} $$\n",
    "\n",
    "AiAi代表第i次随机试验。\n",
    "$$ θ=argm\\undersetθaxL(θ)=\\frac{k}{n} $$\n",
    "\n",
    "贝叶斯估计：\n",
    "$$ P(θ|A1,A2,...,An)=\\frac {P(A1,A2,...An|θ)P(θ)}{P(A1,A2,...,An)} $$\n",
    "\n",
    "\n",
    "根据观察到的结果修正θ，也就是假设θ是随机变量，θ服从β分布，有很多个可能的取值，我们要取的值时在已知观察结果的条件下使θ出现概率最大的值。上式分母是不变的，求分子最大就可以。\n",
    "$$ \n",
    "\\begin{align}\n",
    "θ&=argm\\undersetθaxP(A1,A2,...An|θ)P(θ)\\\\\n",
    "&=argm\\undersetθax\\prod_{i=1}^nP(Ai|θ)P(θ)\\\\&=argm\\undersetθaxθ^k(1−θ)^{n−k}θ^{a−1}(1−θ)^{b−1}\\\\&=\\frac{k+(a−1)}{n+(a−1)+(b−1)}\n",
    "\\end{align}\n",
    "$$\n"
   ]
  },
  {
   "cell_type": "markdown",
   "metadata": {},
   "source": [
    "### 1.2 Q:通过经验风险最小化推导极大似然估计.证明模型是条件概率分布,当损失函数是对数损失函数时,经验风险最小化等价于极大似然估计"
   ]
  },
  {
   "cell_type": "markdown",
   "metadata": {},
   "source": [
    "模型是条件概率分布：$$P_θ(Y|X)$$，\n",
    "损失函数是对数损失函数：L(Y,P(Y|X))=−logP(Y|X)，\n",
    "经验风险为：\n",
    "$$ \n",
    "\\begin{align}\n",
    "Remp(f)&=\\frac{1}{N}\\sum_{i=1}^NL(yi,f(xi))\\\\&=\\frac{1}{N}\\sum_{i=1}^N−logP(yi|xi)\\\\&=−\\frac{1}{N}\\sum_{i=1}^{N}logP(yi|xi)\n",
    "\\end{align}\n",
    "$$\n",
    "最小化经验风险，也就是最大化$$\\sum_{i=1}^{N}logP(yi|xi)$$，也就是最大化$$\\prod^N_{i=1}P(yi|xi)$$，这个就是极大似然估计。\n",
    "参考：https://blog.csdn.net/familyshizhouna/article/details/70160782"
   ]
  },
  {
   "cell_type": "code",
   "execution_count": null,
   "metadata": {},
   "outputs": [],
   "source": []
  }
 ],
 "metadata": {
  "kernelspec": {
   "display_name": "AI",
   "language": "python",
   "name": "ai"
  },
  "language_info": {
   "codemirror_mode": {
    "name": "ipython",
    "version": 3
   },
   "file_extension": ".py",
   "mimetype": "text/x-python",
   "name": "python",
   "nbconvert_exporter": "python",
   "pygments_lexer": "ipython3",
   "version": "3.6.8"
  }
 },
 "nbformat": 4,
 "nbformat_minor": 2
}
